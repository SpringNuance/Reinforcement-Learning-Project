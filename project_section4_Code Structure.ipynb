{
 "cells": [
  {
   "cell_type": "markdown",
   "id": "00d32d1a",
   "metadata": {},
   "source": [
    "\n",
    "\n",
    "\n",
    "# 4 Code Structure & Files <a id='4.'></a>\n",
    "\n",
    "```project.ipynb``` is the main file needed to be modified for this project, but you can also add other auxiliary files if needed.  \n",
    "```\n",
    "├───cfg\n",
    "│   ├───algo                       # Algorithm configurations\n",
    "│   │   ├───ddpg.yaml\n",
    "│   │   └───ppo.yaml\n",
    "│   │   ├───ddpg_extension.yaml\n",
    "│   │   └───ppo_extension.yaml\n",
    "│   ├───envs                       # Environment configurations\n",
    "│   │   ├───difficult_env.yaml \n",
    "│   │   ├───easy_env.yaml\n",
    "│   │   ├───env_example.py         # A python example of how to utilize the environment\n",
    "│   │   └───middle_env.yaml\n",
    "├───imgs\n",
    "│   ├───difficult_env.gif\n",
    "│   ├───easy_env.gif\n",
    "│   ├───middle_env.gif\n",
    "│   ├───robot_sanding.pdf\n",
    "│   └───robot_sanding.png\n",
    "├───utils\n",
    "│   ├───common_utils.py\n",
    "│   └───recorder.py\n",
    "├───algo\n",
    "│   ├───ddpg.py\n",
    "│   └───ppo.py\n",
    "│   ├───ddpg_extension.py\n",
    "│   └───ppo_extension.py\n",
    "├───project.ipynb\n",
    "└───sanding.py\n",
    "\n",
    "```\n",
    "\n",
    "## 4.1 Execution time <a id='4.1'></a>\n",
    "\n",
    "The training of DDPG/PPO may take more than 30 min depending on the server load. If you have problems with the training time, you can train DDPG/PPO locally on your computer or a server."
   ]
  }
 ],
 "metadata": {
  "kernelspec": {
   "display_name": "Python 3",
   "language": "python",
   "name": "python3"
  },
  "language_info": {
   "codemirror_mode": {
    "name": "ipython",
    "version": 3
   },
   "file_extension": ".py",
   "mimetype": "text/x-python",
   "name": "python",
   "nbconvert_exporter": "python",
   "pygments_lexer": "ipython3",
   "version": "3.10.8"
  }
 },
 "nbformat": 4,
 "nbformat_minor": 5
}
