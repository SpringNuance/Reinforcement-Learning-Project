{
 "cells": [
  {
   "cell_type": "markdown",
   "metadata": {},
   "source": [
    "# Environment Setup"
   ]
  },
  {
   "cell_type": "code",
   "execution_count": 1,
   "metadata": {},
   "outputs": [],
   "source": [
    "import yaml\n",
    "import gymnasium as gym\n",
    "import numpy as np \n",
    "from types import SimpleNamespace as SN\n",
    "from pathlib import Path\n",
    "import copy\n",
    "import utils.common_utils as cu\n",
    "from algos.ddpg_agent import DDPGAgent\n",
    "from algos.ppo_agent import PPOAgent\n",
    "from utils.recorder import RecordVideo\n",
    "from algos.ddpg_extension import DDPGExtension\n",
    "from algos.ppo_extension import PPOExtension"
   ]
  },
  {
   "cell_type": "code",
   "execution_count": 2,
   "metadata": {},
   "outputs": [],
   "source": [
    "\n",
    "# Function to test a trained policy\n",
    "def test(agent, env_name, algo_name):\n",
    "    # Load model\n",
    "    agent.load_model()\n",
    "    print(\"Testing...\")\n",
    "    total_test_reward, total_test_len = 0, 0\n",
    "    returns = []\n",
    "    \n",
    "    cur_dir=Path().cwd()\n",
    "    cfg_path= cur_dir/'cfg'\n",
    "    # read configuration parameters:\n",
    "    cfg={'cfg_path': cfg_path, 'algo_name': algo_name}\n",
    "    env_cfg=yaml.safe_load(open(cfg_path /'envs'/f'{env_name}_env.yaml', 'r'))\n",
    "    \n",
    "    # prepare folders to store results\n",
    "    work_dir = cur_dir/'results'/env_cfg[\"env_name\"]/algo_name\n",
    "    video_test_dir=work_dir/\"video\"/\"test\"\n",
    "    \n",
    "    for ep in range(agent.cfg.test_episodes):\n",
    "        frames = []\n",
    "        seed = np.random.randint(low=1, high=1000)\n",
    "        observation, _ = agent.env.reset(seed=seed)\n",
    "        test_reward, test_len, done = 0, 0, False\n",
    "        \n",
    "        while not done and test_len < agent.cfg.max_episode_steps:\n",
    "            action, _ = agent.get_action(observation, evaluation=True)\n",
    "            observation, reward, done, truncated, info = agent.env.step(action.flatten())\n",
    "            fs = agent.env.render()\n",
    "            frames = frames+fs\n",
    "            test_reward += reward\n",
    "            test_len += 1\n",
    "        total_test_reward += test_reward\n",
    "        total_test_len += test_len\n",
    "        returns.append(test_reward)\n",
    "        \n",
    "        if ep%100==0:\n",
    "            cu.save_rgb_arrays_to_gif(frames, video_test_dir/('_seed_'+str(agent.seed)+'_ep_'+str(ep)+'.gif'))\n",
    "\n",
    "    print(f\"Average test reward over {len(returns)} episodes: {float(total_test_reward/agent.cfg.test_episodes)},+- {np.std(np.array(returns))}; \\\n",
    "        Average episode length: {total_test_len/agent.cfg.test_episodes}\")\n"
   ]
  },
  {
   "cell_type": "code",
   "execution_count": 3,
   "metadata": {},
   "outputs": [],
   "source": [
    "# Setup: read the configurations and generate the environment.\n",
    "def setup(algo=None, env='easy', cfg_args={}, render=True, train_episodes=None):\n",
    "    # set the paths\n",
    "    cur_dir=Path().cwd()\n",
    "    cfg_path= cur_dir/'cfg'\n",
    "    \n",
    "    # read configuration parameters:\n",
    "    cfg={'cfg_path': cfg_path, 'algo_name': algo}\n",
    "    env_cfg=yaml.safe_load(open(cfg_path /'envs'/f'{env}_env.yaml', 'r'))\n",
    "    algo_cfg=yaml.safe_load(open(cfg_path /'algo'/f'{algo}.yaml', 'r'))\n",
    "    cfg.update(env_cfg)\n",
    "    cfg.update(algo_cfg)\n",
    "    cfg.update(cfg_args)\n",
    "    \n",
    "    # forcely change train_episodes\n",
    "    if train_episodes is None:\n",
    "        True\n",
    "    else:\n",
    "        cfg[\"train_episodes\"] = train_episodes\n",
    "    \n",
    "    # prepare folders to store results\n",
    "    work_dir = cur_dir/'results'/cfg[\"env_name\"]/str(algo)\n",
    "    model_dir=work_dir/\"model\"\n",
    "    logging_dir=work_dir/\"logging\"\n",
    "    video_train_dir=work_dir/\"video\"/\"train\"\n",
    "    video_test_dir=work_dir/\"video\"/\"test\"\n",
    "    for dir in [work_dir, model_dir, logging_dir, video_train_dir, video_test_dir]:\n",
    "        cu.make_dir(dir)\n",
    "        \n",
    "    cfg.update({'work_dir':work_dir, \"model_dir\":model_dir, \"logging_dir\": logging_dir, \"video_train_dir\": video_train_dir, \"video_test_dir\": video_test_dir})\n",
    "    cfg = SN(**cfg)\n",
    "    \n",
    "    # set seed\n",
    "    if cfg.seed == None:\n",
    "        seed = np.random.randint(low=1, high=1000)\n",
    "    else:\n",
    "        seed = cfg.seed\n",
    "    \n",
    "    ## Create environment\n",
    "    env=cu.create_env(cfg_path /'envs'/f'{env}_env.yaml')\n",
    "\n",
    "   \n",
    "    if cfg.save_video:\n",
    "        # During testing, save every episode\n",
    "        if cfg.testing:\n",
    "            ep_trigger = 1\n",
    "            video_path = cfg.video_test_dir\n",
    "        # During training, save every 50th episode\n",
    "        else:\n",
    "            ep_trigger = 1000   # Save video every 50 episodes\n",
    "            video_path = cfg.video_train_dir\n",
    "        \n",
    "        if render:\n",
    "            env = RecordVideo(\n",
    "                env, video_path,\n",
    "                episode_trigger=lambda x: x % ep_trigger == 0,\n",
    "                name_prefix=cfg.exp_name)\n",
    "\n",
    "\n",
    "    eval_env=copy.deepcopy(env)\n",
    "    env.reset(seed=seed) # we only set the seed here. During training, we don't have to set the seed when performing reset().\n",
    "    eval_env.reset(seed=seed+1000)\n",
    "    eval_env=None # For simplicity, we don't evaluate the performance during training.\n",
    "        \n",
    "    # Get dimensionalities of actions and observations\n",
    "    action_space_dim = cu.get_space_dim(env.action_space)\n",
    "    observation_space_dim = cu.get_space_dim(env.observation_space)\n",
    "    \n",
    "    config={\n",
    "        \"args\": cfg,\n",
    "        \"env\":env,\n",
    "        \"eval_env\":eval_env,\n",
    "        \"action_space_dim\": action_space_dim,\n",
    "        \"observation_space_dim\": observation_space_dim,\n",
    "        \"seed\":seed\n",
    "    }\n",
    "    return config\n"
   ]
  },
  {
   "cell_type": "markdown",
   "metadata": {},
   "source": [
    "# DDPG"
   ]
  },
  {
   "cell_type": "markdown",
   "metadata": {},
   "source": [
    "## Middle"
   ]
  },
  {
   "cell_type": "markdown",
   "metadata": {},
   "source": [
    "### Training"
   ]
  },
  {
   "cell_type": "code",
   "execution_count": 2,
   "metadata": {},
   "outputs": [
    {
     "ename": "NameError",
     "evalue": "name 'Path' is not defined",
     "output_type": "error",
     "traceback": [
      "\u001b[0;31m---------------------------------------------------------------------------\u001b[0m",
      "\u001b[0;31mNameError\u001b[0m                                 Traceback (most recent call last)",
      "\u001b[1;32m/Users/lgk1910/Library/CloudStorage/OneDrive-AaltoUniversity/Learning2/ReinforcementLearning/Project/GitHub/Reinforcement-Learning-Project/training.ipynb Cell 8\u001b[0m line \u001b[0;36m1\n\u001b[1;32m      <a href='vscode-notebook-cell:/Users/lgk1910/Library/CloudStorage/OneDrive-AaltoUniversity/Learning2/ReinforcementLearning/Project/GitHub/Reinforcement-Learning-Project/training.ipynb#X12sZmlsZQ%3D%3D?line=8'>9</a>\u001b[0m \u001b[39m# Train the algorithm with a specific random seed.\u001b[39;00m\n\u001b[1;32m     <a href='vscode-notebook-cell:/Users/lgk1910/Library/CloudStorage/OneDrive-AaltoUniversity/Learning2/ReinforcementLearning/Project/GitHub/Reinforcement-Learning-Project/training.ipynb#X12sZmlsZQ%3D%3D?line=9'>10</a>\u001b[0m \u001b[39m# In total, we train the algorithm with three random seeds [0, 1, 2].\u001b[39;00m\n\u001b[1;32m     <a href='vscode-notebook-cell:/Users/lgk1910/Library/CloudStorage/OneDrive-AaltoUniversity/Learning2/ReinforcementLearning/Project/GitHub/Reinforcement-Learning-Project/training.ipynb#X12sZmlsZQ%3D%3D?line=10'>11</a>\u001b[0m \u001b[39mfor\u001b[39;00m i \u001b[39min\u001b[39;00m \u001b[39mrange\u001b[39m(\u001b[39m3\u001b[39m):\n\u001b[0;32m---> <a href='vscode-notebook-cell:/Users/lgk1910/Library/CloudStorage/OneDrive-AaltoUniversity/Learning2/ReinforcementLearning/Project/GitHub/Reinforcement-Learning-Project/training.ipynb#X12sZmlsZQ%3D%3D?line=11'>12</a>\u001b[0m     config\u001b[39m=\u001b[39msetup(algo\u001b[39m=\u001b[39;49mimplemented_algo, env\u001b[39m=\u001b[39;49menvironment, train_episodes\u001b[39m=\u001b[39;49m\u001b[39m20000\u001b[39;49m)\n\u001b[1;32m     <a href='vscode-notebook-cell:/Users/lgk1910/Library/CloudStorage/OneDrive-AaltoUniversity/Learning2/ReinforcementLearning/Project/GitHub/Reinforcement-Learning-Project/training.ipynb#X12sZmlsZQ%3D%3D?line=13'>14</a>\u001b[0m     config[\u001b[39m\"\u001b[39m\u001b[39mseed\u001b[39m\u001b[39m\"\u001b[39m] \u001b[39m=\u001b[39m i\n\u001b[1;32m     <a href='vscode-notebook-cell:/Users/lgk1910/Library/CloudStorage/OneDrive-AaltoUniversity/Learning2/ReinforcementLearning/Project/GitHub/Reinforcement-Learning-Project/training.ipynb#X12sZmlsZQ%3D%3D?line=14'>15</a>\u001b[0m     training_seeds\u001b[39m.\u001b[39mappend(i)\n",
      "\u001b[1;32m/Users/lgk1910/Library/CloudStorage/OneDrive-AaltoUniversity/Learning2/ReinforcementLearning/Project/GitHub/Reinforcement-Learning-Project/training.ipynb Cell 8\u001b[0m line \u001b[0;36m4\n\u001b[1;32m      <a href='vscode-notebook-cell:/Users/lgk1910/Library/CloudStorage/OneDrive-AaltoUniversity/Learning2/ReinforcementLearning/Project/GitHub/Reinforcement-Learning-Project/training.ipynb#X12sZmlsZQ%3D%3D?line=1'>2</a>\u001b[0m \u001b[39mdef\u001b[39;00m \u001b[39msetup\u001b[39m(algo\u001b[39m=\u001b[39m\u001b[39mNone\u001b[39;00m, env\u001b[39m=\u001b[39m\u001b[39m'\u001b[39m\u001b[39measy\u001b[39m\u001b[39m'\u001b[39m, cfg_args\u001b[39m=\u001b[39m{}, render\u001b[39m=\u001b[39m\u001b[39mTrue\u001b[39;00m, train_episodes\u001b[39m=\u001b[39m\u001b[39mNone\u001b[39;00m):\n\u001b[1;32m      <a href='vscode-notebook-cell:/Users/lgk1910/Library/CloudStorage/OneDrive-AaltoUniversity/Learning2/ReinforcementLearning/Project/GitHub/Reinforcement-Learning-Project/training.ipynb#X12sZmlsZQ%3D%3D?line=2'>3</a>\u001b[0m     \u001b[39m# set the paths\u001b[39;00m\n\u001b[0;32m----> <a href='vscode-notebook-cell:/Users/lgk1910/Library/CloudStorage/OneDrive-AaltoUniversity/Learning2/ReinforcementLearning/Project/GitHub/Reinforcement-Learning-Project/training.ipynb#X12sZmlsZQ%3D%3D?line=3'>4</a>\u001b[0m     cur_dir\u001b[39m=\u001b[39mPath()\u001b[39m.\u001b[39mcwd()\n\u001b[1;32m      <a href='vscode-notebook-cell:/Users/lgk1910/Library/CloudStorage/OneDrive-AaltoUniversity/Learning2/ReinforcementLearning/Project/GitHub/Reinforcement-Learning-Project/training.ipynb#X12sZmlsZQ%3D%3D?line=4'>5</a>\u001b[0m     cfg_path\u001b[39m=\u001b[39m cur_dir\u001b[39m/\u001b[39m\u001b[39m'\u001b[39m\u001b[39mcfg\u001b[39m\u001b[39m'\u001b[39m\n\u001b[1;32m      <a href='vscode-notebook-cell:/Users/lgk1910/Library/CloudStorage/OneDrive-AaltoUniversity/Learning2/ReinforcementLearning/Project/GitHub/Reinforcement-Learning-Project/training.ipynb#X12sZmlsZQ%3D%3D?line=6'>7</a>\u001b[0m     \u001b[39m# read configuration parameters:\u001b[39;00m\n",
      "\u001b[0;31mNameError\u001b[0m: name 'Path' is not defined"
     ]
    }
   ],
   "source": [
    "# Choose either PPO or DDPG\n",
    "implemented_algo ='ddpg' #'ppo' or 'ddpg'\n",
    "\n",
    "# Loop over the three difficulty levels\n",
    "# for environment in ['easy', 'middle', 'difficult']:\n",
    "environment = 'middle'\n",
    "training_seeds = []\n",
    "\n",
    "# Train the algorithm with a specific random seed.\n",
    "# In total, we train the algorithm with three random seeds [0, 1, 2].\n",
    "for i in range(3):\n",
    "    config=setup(algo=implemented_algo, env=environment, train_episodes=20000)\n",
    "\n",
    "    config[\"seed\"] = i\n",
    "    training_seeds.append(i)\n",
    "\n",
    "    if config[\"args\"].algo_name == 'ppo':\n",
    "        agent=PPOAgent(config)\n",
    "    elif config[\"args\"].algo_name == 'ddpg':\n",
    "        agent=DDPGAgent(config)\n",
    "    else:\n",
    "        raise Exception('Please use ppo or ddpg!')\n",
    "\n",
    "    # Train the agent using selected algorithm    \n",
    "    agent.train()\n"
   ]
  },
  {
   "cell_type": "code",
   "execution_count": null,
   "metadata": {},
   "outputs": [
    {
     "name": "stdout",
     "output_type": "stream",
     "text": [
      "\n",
      "\n",
      "\n",
      "now start testing for environment middle  agent: ddpg  seed: 0\n",
      "model loaded: /Users/lgk1910/Library/CloudStorage/OneDrive-AaltoUniversity/Learning2/ReinforcementLearning/Project/GitHub/Reinforcement-Learning-Project/results/SandingEnvMiddle/ddpg/model/model_parameters_0.pt\n",
      "Testing...\n",
      "Saved GIF to /Users/lgk1910/Library/CloudStorage/OneDrive-AaltoUniversity/Learning2/ReinforcementLearning/Project/GitHub/Reinforcement-Learning-Project/results/SandingEnvMiddle/ddpg/video/test/_seed_0_ep_0.gif\n",
      "Average test reward over 10 episodes: 1.3,+- 0.6403124237432849;         Average episode length: 20.0\n",
      "\n",
      "\n",
      "\n",
      "now start testing for environment middle  agent: ddpg  seed: 1\n",
      "model loaded: /Users/lgk1910/Library/CloudStorage/OneDrive-AaltoUniversity/Learning2/ReinforcementLearning/Project/GitHub/Reinforcement-Learning-Project/results/SandingEnvMiddle/ddpg/model/model_parameters_1.pt\n",
      "Testing...\n",
      "Saved GIF to /Users/lgk1910/Library/CloudStorage/OneDrive-AaltoUniversity/Learning2/ReinforcementLearning/Project/GitHub/Reinforcement-Learning-Project/results/SandingEnvMiddle/ddpg/video/test/_seed_1_ep_0.gif\n",
      "Average test reward over 10 episodes: 1.0,+- 0.7745966692414834;         Average episode length: 20.0\n",
      "\n",
      "\n",
      "\n",
      "now start testing for environment middle  agent: ddpg  seed: 2\n",
      "model loaded: /Users/lgk1910/Library/CloudStorage/OneDrive-AaltoUniversity/Learning2/ReinforcementLearning/Project/GitHub/Reinforcement-Learning-Project/results/SandingEnvMiddle/ddpg/model/model_parameters_2.pt\n",
      "Testing...\n",
      "Saved GIF to /Users/lgk1910/Library/CloudStorage/OneDrive-AaltoUniversity/Learning2/ReinforcementLearning/Project/GitHub/Reinforcement-Learning-Project/results/SandingEnvMiddle/ddpg/video/test/_seed_2_ep_0.gif\n",
      "Average test reward over 10 episodes: 0.7,+- 0.9;         Average episode length: 20.0\n"
     ]
    }
   ],
   "source": [
    "## Code block for training and testing an agent using the implemented algorithm\n",
    "## in the three different Tasks with different difficulty levels\n",
    "import warnings\n",
    "warnings.filterwarnings('ignore')\n",
    "\n",
    "# NOTE: Uncomment the algorithm you implemented\n",
    "implemented_algo ='ddpg' #'ddpg' or 'ppo'\n",
    "\n",
    "environment = 'middle'\n",
    "training_seeds = []\n",
    "\n",
    "# for each algorithm, we will test the agent trained with specific random seed\n",
    "for i in range(3):\n",
    "    config=setup(algo=implemented_algo, env=environment, render=False)\n",
    "\n",
    "    config[\"seed\"] = i\n",
    "    training_seeds.append(i)\n",
    "\n",
    "    if config[\"args\"].algo_name == 'ppo':\n",
    "        agent=PPOAgent(config)\n",
    "    elif config[\"args\"].algo_name == 'ddpg':\n",
    "        agent=DDPGAgent(config)\n",
    "    else:\n",
    "        raise Exception('Please use ppo or ddpg!')\n",
    "    \n",
    "    print('\\n\\n\\nnow start testing for environment',environment,' agent:',implemented_algo,' seed:',i)\n",
    "    # Test the agent in the selected environment\n",
    "    test(agent, environment, implemented_algo)"
   ]
  },
  {
   "cell_type": "markdown",
   "metadata": {},
   "source": [
    "# DDPG Extension"
   ]
  },
  {
   "cell_type": "markdown",
   "metadata": {},
   "source": [
    "## Middle"
   ]
  },
  {
   "cell_type": "markdown",
   "metadata": {},
   "source": [
    "### Training"
   ]
  },
  {
   "cell_type": "code",
   "execution_count": 4,
   "metadata": {},
   "outputs": [
    {
     "name": "stderr",
     "output_type": "stream",
     "text": [
      "/Users/lgk1910/Library/CloudStorage/OneDrive-AaltoUniversity/Learning2/ReinforcementLearning/Project/GitHub/Reinforcement-Learning-Project/utils/recorder.py:250: UserWarning: \u001b[33mWARN: Overwriting existing videos at /Users/lgk1910/Library/CloudStorage/OneDrive-AaltoUniversity/Learning2/ReinforcementLearning/Project/GitHub/Reinforcement-Learning-Project/results/SandingEnvMiddle/ddpg_extension/video/train folder (try specifying a different `video_folder` for the `RecordVideo` wrapper if this is not desired)\u001b[0m\n",
      "  logger.warn(\n",
      "/Users/lgk1910/anaconda3/envs/rl/lib/python3.10/site-packages/gymnasium/core.py:311: UserWarning: \u001b[33mWARN: env.is_vector_env to get variables from other wrappers is deprecated and will be removed in v1.0, to get this variable you can do `env.unwrapped.is_vector_env` for environment variables or `env.get_wrapper_attr('is_vector_env')` that will search the reminding wrappers.\u001b[0m\n",
      "  logger.warn(\n",
      "/Users/lgk1910/anaconda3/envs/rl/lib/python3.10/site-packages/gymnasium/utils/passive_env_checker.py:135: UserWarning: \u001b[33mWARN: The obs returned by the `reset()` method was expecting numpy array dtype to be float32, actual type: float64\u001b[0m\n",
      "  logger.warn(\n",
      "/Users/lgk1910/anaconda3/envs/rl/lib/python3.10/site-packages/gymnasium/utils/passive_env_checker.py:159: UserWarning: \u001b[33mWARN: The obs returned by the `reset()` method is not within the observation space.\u001b[0m\n",
      "  logger.warn(f\"{pre} is not within the observation space.\")\n",
      "/Users/lgk1910/anaconda3/envs/rl/lib/python3.10/site-packages/gymnasium/utils/passive_env_checker.py:271: UserWarning: \u001b[33mWARN: RGB-array rendering should return a numpy array, got <class 'list'>\u001b[0m\n",
      "  logger.warn(\n"
     ]
    },
    {
     "name": "stdout",
     "output_type": "stream",
     "text": [
      "Moviepy - Building video /Users/lgk1910/Library/CloudStorage/OneDrive-AaltoUniversity/Learning2/ReinforcementLearning/Project/GitHub/Reinforcement-Learning-Project/results/SandingEnvMiddle/ddpg_extension/video/train/project-episode-0.mp4.\n",
      "Moviepy - Writing video /Users/lgk1910/Library/CloudStorage/OneDrive-AaltoUniversity/Learning2/ReinforcementLearning/Project/GitHub/Reinforcement-Learning-Project/results/SandingEnvMiddle/ddpg_extension/video/train/project-episode-0.mp4\n",
      "\n"
     ]
    },
    {
     "name": "stderr",
     "output_type": "stream",
     "text": [
      "                                                  "
     ]
    },
    {
     "name": "stdout",
     "output_type": "stream",
     "text": [
      "Moviepy - Done !\n",
      "Moviepy - video ready /Users/lgk1910/Library/CloudStorage/OneDrive-AaltoUniversity/Learning2/ReinforcementLearning/Project/GitHub/Reinforcement-Learning-Project/results/SandingEnvMiddle/ddpg_extension/video/train/project-episode-0.mp4\n"
     ]
    },
    {
     "name": "stderr",
     "output_type": "stream",
     "text": [
      "/Users/lgk1910/anaconda3/envs/rl/lib/python3.10/site-packages/gymnasium/utils/passive_env_checker.py:135: UserWarning: \u001b[33mWARN: The obs returned by the `step()` method was expecting numpy array dtype to be float32, actual type: float64\u001b[0m\n",
      "  logger.warn(\n",
      "/Users/lgk1910/anaconda3/envs/rl/lib/python3.10/site-packages/gymnasium/utils/passive_env_checker.py:159: UserWarning: \u001b[33mWARN: The obs returned by the `step()` method is not within the observation space.\u001b[0m\n",
      "  logger.warn(f\"{pre} is not within the observation space.\")\n"
     ]
    },
    {
     "name": "stdout",
     "output_type": "stream",
     "text": [
      "Moviepy - Building video /Users/lgk1910/Library/CloudStorage/OneDrive-AaltoUniversity/Learning2/ReinforcementLearning/Project/GitHub/Reinforcement-Learning-Project/results/SandingEnvMiddle/ddpg_extension/video/train/project-episode-0.mp4.\n",
      "Moviepy - Writing video /Users/lgk1910/Library/CloudStorage/OneDrive-AaltoUniversity/Learning2/ReinforcementLearning/Project/GitHub/Reinforcement-Learning-Project/results/SandingEnvMiddle/ddpg_extension/video/train/project-episode-0.mp4\n",
      "\n"
     ]
    },
    {
     "name": "stderr",
     "output_type": "stream",
     "text": [
      "                                                               \r"
     ]
    },
    {
     "name": "stdout",
     "output_type": "stream",
     "text": [
      "Moviepy - Done !\n",
      "Moviepy - video ready /Users/lgk1910/Library/CloudStorage/OneDrive-AaltoUniversity/Learning2/ReinforcementLearning/Project/GitHub/Reinforcement-Learning-Project/results/SandingEnvMiddle/ddpg_extension/video/train/project-episode-0.mp4\n",
      "Episode 0 Step 20 finished. Average episode return: 1.0\n",
      "Episode 100 Step 2020 finished. Average episode return: 0.03\n",
      "Episode 200 Step 4020 finished. Average episode return: 0.09\n",
      "Episode 300 Step 6020 finished. Average episode return: -0.12\n",
      "Episode 400 Step 8020 finished. Average episode return: 0.05\n",
      "Episode 500 Step 10020 finished. Average episode return: -0.19\n",
      "Episode 600 Step 12020 finished. Average episode return: -0.04\n",
      "Episode 700 Step 14020 finished. Average episode return: 0.15\n",
      "Episode 800 Step 16020 finished. Average episode return: 0.1\n",
      "Episode 900 Step 18020 finished. Average episode return: 0.08\n",
      "Moviepy - Building video /Users/lgk1910/Library/CloudStorage/OneDrive-AaltoUniversity/Learning2/ReinforcementLearning/Project/GitHub/Reinforcement-Learning-Project/results/SandingEnvMiddle/ddpg_extension/video/train/project-episode-1000.mp4.\n",
      "Moviepy - Writing video /Users/lgk1910/Library/CloudStorage/OneDrive-AaltoUniversity/Learning2/ReinforcementLearning/Project/GitHub/Reinforcement-Learning-Project/results/SandingEnvMiddle/ddpg_extension/video/train/project-episode-1000.mp4\n",
      "\n"
     ]
    },
    {
     "name": "stderr",
     "output_type": "stream",
     "text": [
      "                                                               \r"
     ]
    },
    {
     "name": "stdout",
     "output_type": "stream",
     "text": [
      "Moviepy - Done !\n",
      "Moviepy - video ready /Users/lgk1910/Library/CloudStorage/OneDrive-AaltoUniversity/Learning2/ReinforcementLearning/Project/GitHub/Reinforcement-Learning-Project/results/SandingEnvMiddle/ddpg_extension/video/train/project-episode-1000.mp4\n",
      "Episode 1000 Step 20020 finished. Average episode return: 0.13\n",
      "Episode 1100 Step 22020 finished. Average episode return: 0.01\n",
      "Episode 1200 Step 24020 finished. Average episode return: 0.04\n",
      "Episode 1300 Step 26020 finished. Average episode return: 0.2\n",
      "Episode 1400 Step 28020 finished. Average episode return: 0.28\n",
      "Episode 1500 Step 30020 finished. Average episode return: 0.38\n",
      "Episode 1600 Step 32020 finished. Average episode return: 0.35\n",
      "Episode 1700 Step 34020 finished. Average episode return: 0.45\n",
      "Episode 1800 Step 36020 finished. Average episode return: 0.45\n",
      "Episode 1900 Step 38020 finished. Average episode return: 0.6\n",
      "Moviepy - Building video /Users/lgk1910/Library/CloudStorage/OneDrive-AaltoUniversity/Learning2/ReinforcementLearning/Project/GitHub/Reinforcement-Learning-Project/results/SandingEnvMiddle/ddpg_extension/video/train/project-episode-2000.mp4.\n",
      "Moviepy - Writing video /Users/lgk1910/Library/CloudStorage/OneDrive-AaltoUniversity/Learning2/ReinforcementLearning/Project/GitHub/Reinforcement-Learning-Project/results/SandingEnvMiddle/ddpg_extension/video/train/project-episode-2000.mp4\n",
      "\n"
     ]
    },
    {
     "name": "stderr",
     "output_type": "stream",
     "text": [
      "                                                               \r"
     ]
    },
    {
     "name": "stdout",
     "output_type": "stream",
     "text": [
      "Moviepy - Done !\n",
      "Moviepy - video ready /Users/lgk1910/Library/CloudStorage/OneDrive-AaltoUniversity/Learning2/ReinforcementLearning/Project/GitHub/Reinforcement-Learning-Project/results/SandingEnvMiddle/ddpg_extension/video/train/project-episode-2000.mp4\n",
      "Episode 2000 Step 40020 finished. Average episode return: 0.46\n",
      "Episode 2100 Step 42020 finished. Average episode return: 0.37\n",
      "Episode 2200 Step 44020 finished. Average episode return: 0.42\n",
      "Episode 2300 Step 46020 finished. Average episode return: 0.5\n",
      "Episode 2400 Step 48020 finished. Average episode return: 0.73\n",
      "Episode 2500 Step 50020 finished. Average episode return: 0.61\n",
      "Episode 2600 Step 52020 finished. Average episode return: 0.48\n",
      "Episode 2700 Step 54020 finished. Average episode return: 0.5\n",
      "Episode 2800 Step 56020 finished. Average episode return: 0.48\n",
      "Episode 2900 Step 58020 finished. Average episode return: 0.56\n",
      "Moviepy - Building video /Users/lgk1910/Library/CloudStorage/OneDrive-AaltoUniversity/Learning2/ReinforcementLearning/Project/GitHub/Reinforcement-Learning-Project/results/SandingEnvMiddle/ddpg_extension/video/train/project-episode-3000.mp4.\n",
      "Moviepy - Writing video /Users/lgk1910/Library/CloudStorage/OneDrive-AaltoUniversity/Learning2/ReinforcementLearning/Project/GitHub/Reinforcement-Learning-Project/results/SandingEnvMiddle/ddpg_extension/video/train/project-episode-3000.mp4\n",
      "\n"
     ]
    },
    {
     "name": "stderr",
     "output_type": "stream",
     "text": [
      "                                                               \r"
     ]
    },
    {
     "name": "stdout",
     "output_type": "stream",
     "text": [
      "Moviepy - Done !\n",
      "Moviepy - video ready /Users/lgk1910/Library/CloudStorage/OneDrive-AaltoUniversity/Learning2/ReinforcementLearning/Project/GitHub/Reinforcement-Learning-Project/results/SandingEnvMiddle/ddpg_extension/video/train/project-episode-3000.mp4\n",
      "Episode 3000 Step 60020 finished. Average episode return: 0.54\n",
      "Episode 3100 Step 62020 finished. Average episode return: 0.65\n",
      "Episode 3200 Step 64020 finished. Average episode return: 0.53\n",
      "Episode 3300 Step 66020 finished. Average episode return: 0.71\n",
      "Episode 3400 Step 68020 finished. Average episode return: 0.52\n",
      "Episode 3500 Step 70020 finished. Average episode return: 0.49\n",
      "Episode 3600 Step 72020 finished. Average episode return: 0.55\n",
      "Episode 3700 Step 74020 finished. Average episode return: 0.52\n",
      "Episode 3800 Step 76020 finished. Average episode return: 0.66\n",
      "Episode 3900 Step 78020 finished. Average episode return: 0.63\n",
      "Moviepy - Building video /Users/lgk1910/Library/CloudStorage/OneDrive-AaltoUniversity/Learning2/ReinforcementLearning/Project/GitHub/Reinforcement-Learning-Project/results/SandingEnvMiddle/ddpg_extension/video/train/project-episode-4000.mp4.\n",
      "Moviepy - Writing video /Users/lgk1910/Library/CloudStorage/OneDrive-AaltoUniversity/Learning2/ReinforcementLearning/Project/GitHub/Reinforcement-Learning-Project/results/SandingEnvMiddle/ddpg_extension/video/train/project-episode-4000.mp4\n",
      "\n"
     ]
    },
    {
     "name": "stderr",
     "output_type": "stream",
     "text": [
      "                                                               \r"
     ]
    },
    {
     "name": "stdout",
     "output_type": "stream",
     "text": [
      "Moviepy - Done !\n",
      "Moviepy - video ready /Users/lgk1910/Library/CloudStorage/OneDrive-AaltoUniversity/Learning2/ReinforcementLearning/Project/GitHub/Reinforcement-Learning-Project/results/SandingEnvMiddle/ddpg_extension/video/train/project-episode-4000.mp4\n",
      "Episode 4000 Step 80020 finished. Average episode return: 0.48\n",
      "Episode 4100 Step 82020 finished. Average episode return: 0.74\n",
      "Episode 4200 Step 84020 finished. Average episode return: 0.6\n",
      "Episode 4300 Step 86020 finished. Average episode return: 0.5\n",
      "Episode 4400 Step 88020 finished. Average episode return: 0.72\n",
      "Episode 4500 Step 90020 finished. Average episode return: 0.72\n",
      "Episode 4600 Step 92020 finished. Average episode return: 0.69\n",
      "Episode 4700 Step 94020 finished. Average episode return: 0.68\n",
      "Episode 4800 Step 96020 finished. Average episode return: 0.54\n",
      "Episode 4900 Step 98020 finished. Average episode return: 0.66\n",
      "Moviepy - Building video /Users/lgk1910/Library/CloudStorage/OneDrive-AaltoUniversity/Learning2/ReinforcementLearning/Project/GitHub/Reinforcement-Learning-Project/results/SandingEnvMiddle/ddpg_extension/video/train/project-episode-5000.mp4.\n",
      "Moviepy - Writing video /Users/lgk1910/Library/CloudStorage/OneDrive-AaltoUniversity/Learning2/ReinforcementLearning/Project/GitHub/Reinforcement-Learning-Project/results/SandingEnvMiddle/ddpg_extension/video/train/project-episode-5000.mp4\n",
      "\n"
     ]
    },
    {
     "name": "stderr",
     "output_type": "stream",
     "text": [
      "                                                               \r"
     ]
    },
    {
     "name": "stdout",
     "output_type": "stream",
     "text": [
      "Moviepy - Done !\n",
      "Moviepy - video ready /Users/lgk1910/Library/CloudStorage/OneDrive-AaltoUniversity/Learning2/ReinforcementLearning/Project/GitHub/Reinforcement-Learning-Project/results/SandingEnvMiddle/ddpg_extension/video/train/project-episode-5000.mp4\n",
      "Episode 5000 Step 100020 finished. Average episode return: 0.56\n",
      "Episode 5100 Step 102020 finished. Average episode return: 0.79\n",
      "Episode 5200 Step 104020 finished. Average episode return: 0.76\n",
      "Episode 5300 Step 106020 finished. Average episode return: 0.65\n",
      "Episode 5400 Step 108020 finished. Average episode return: 0.78\n",
      "Episode 5500 Step 110020 finished. Average episode return: 0.65\n",
      "Episode 5600 Step 112020 finished. Average episode return: 0.6\n",
      "Episode 5700 Step 114020 finished. Average episode return: 0.6\n",
      "Episode 5800 Step 116020 finished. Average episode return: 0.55\n",
      "Episode 5900 Step 118020 finished. Average episode return: 0.69\n",
      "Moviepy - Building video /Users/lgk1910/Library/CloudStorage/OneDrive-AaltoUniversity/Learning2/ReinforcementLearning/Project/GitHub/Reinforcement-Learning-Project/results/SandingEnvMiddle/ddpg_extension/video/train/project-episode-6000.mp4.\n",
      "Moviepy - Writing video /Users/lgk1910/Library/CloudStorage/OneDrive-AaltoUniversity/Learning2/ReinforcementLearning/Project/GitHub/Reinforcement-Learning-Project/results/SandingEnvMiddle/ddpg_extension/video/train/project-episode-6000.mp4\n",
      "\n"
     ]
    },
    {
     "name": "stderr",
     "output_type": "stream",
     "text": [
      "                                                               \r"
     ]
    },
    {
     "name": "stdout",
     "output_type": "stream",
     "text": [
      "Moviepy - Done !\n",
      "Moviepy - video ready /Users/lgk1910/Library/CloudStorage/OneDrive-AaltoUniversity/Learning2/ReinforcementLearning/Project/GitHub/Reinforcement-Learning-Project/results/SandingEnvMiddle/ddpg_extension/video/train/project-episode-6000.mp4\n",
      "Episode 6000 Step 120020 finished. Average episode return: 0.58\n",
      "Episode 6100 Step 122020 finished. Average episode return: 0.82\n",
      "Episode 6200 Step 124020 finished. Average episode return: 0.79\n",
      "Episode 6300 Step 126020 finished. Average episode return: 0.61\n",
      "Episode 6400 Step 128020 finished. Average episode return: 0.6\n",
      "Episode 6500 Step 130020 finished. Average episode return: 0.77\n",
      "Episode 6600 Step 132020 finished. Average episode return: 0.71\n",
      "Episode 6700 Step 134020 finished. Average episode return: 0.77\n",
      "Episode 6800 Step 136020 finished. Average episode return: 0.7\n",
      "Episode 6900 Step 138020 finished. Average episode return: 0.77\n",
      "Moviepy - Building video /Users/lgk1910/Library/CloudStorage/OneDrive-AaltoUniversity/Learning2/ReinforcementLearning/Project/GitHub/Reinforcement-Learning-Project/results/SandingEnvMiddle/ddpg_extension/video/train/project-episode-7000.mp4.\n",
      "Moviepy - Writing video /Users/lgk1910/Library/CloudStorage/OneDrive-AaltoUniversity/Learning2/ReinforcementLearning/Project/GitHub/Reinforcement-Learning-Project/results/SandingEnvMiddle/ddpg_extension/video/train/project-episode-7000.mp4\n",
      "\n"
     ]
    },
    {
     "name": "stderr",
     "output_type": "stream",
     "text": [
      "                                                               \r"
     ]
    },
    {
     "name": "stdout",
     "output_type": "stream",
     "text": [
      "Moviepy - Done !\n",
      "Moviepy - video ready /Users/lgk1910/Library/CloudStorage/OneDrive-AaltoUniversity/Learning2/ReinforcementLearning/Project/GitHub/Reinforcement-Learning-Project/results/SandingEnvMiddle/ddpg_extension/video/train/project-episode-7000.mp4\n",
      "Episode 7000 Step 140020 finished. Average episode return: 0.58\n",
      "Episode 7100 Step 142020 finished. Average episode return: 0.66\n",
      "Episode 7200 Step 144020 finished. Average episode return: 0.66\n",
      "Episode 7300 Step 146020 finished. Average episode return: 0.69\n",
      "Episode 7400 Step 148020 finished. Average episode return: 0.78\n",
      "Episode 7500 Step 150020 finished. Average episode return: 0.74\n",
      "Episode 7600 Step 152020 finished. Average episode return: 0.6\n",
      "Episode 7700 Step 154020 finished. Average episode return: 0.7\n",
      "Episode 7800 Step 156020 finished. Average episode return: 0.44\n",
      "Episode 7900 Step 158020 finished. Average episode return: 0.76\n",
      "Moviepy - Building video /Users/lgk1910/Library/CloudStorage/OneDrive-AaltoUniversity/Learning2/ReinforcementLearning/Project/GitHub/Reinforcement-Learning-Project/results/SandingEnvMiddle/ddpg_extension/video/train/project-episode-8000.mp4.\n",
      "Moviepy - Writing video /Users/lgk1910/Library/CloudStorage/OneDrive-AaltoUniversity/Learning2/ReinforcementLearning/Project/GitHub/Reinforcement-Learning-Project/results/SandingEnvMiddle/ddpg_extension/video/train/project-episode-8000.mp4\n",
      "\n"
     ]
    },
    {
     "name": "stderr",
     "output_type": "stream",
     "text": [
      "                                                               \r"
     ]
    },
    {
     "name": "stdout",
     "output_type": "stream",
     "text": [
      "Moviepy - Done !\n",
      "Moviepy - video ready /Users/lgk1910/Library/CloudStorage/OneDrive-AaltoUniversity/Learning2/ReinforcementLearning/Project/GitHub/Reinforcement-Learning-Project/results/SandingEnvMiddle/ddpg_extension/video/train/project-episode-8000.mp4\n",
      "Episode 8000 Step 160020 finished. Average episode return: 0.69\n",
      "Episode 8100 Step 162020 finished. Average episode return: 0.71\n",
      "Episode 8200 Step 164020 finished. Average episode return: 0.55\n",
      "Episode 8300 Step 166020 finished. Average episode return: 0.61\n",
      "Episode 8400 Step 168020 finished. Average episode return: 0.53\n",
      "Episode 8500 Step 170020 finished. Average episode return: 0.59\n",
      "Episode 8600 Step 172020 finished. Average episode return: 0.8\n",
      "Episode 8700 Step 174020 finished. Average episode return: 0.59\n",
      "Episode 8800 Step 176020 finished. Average episode return: 0.77\n",
      "Episode 8900 Step 178020 finished. Average episode return: 0.69\n",
      "Moviepy - Building video /Users/lgk1910/Library/CloudStorage/OneDrive-AaltoUniversity/Learning2/ReinforcementLearning/Project/GitHub/Reinforcement-Learning-Project/results/SandingEnvMiddle/ddpg_extension/video/train/project-episode-9000.mp4.\n",
      "Moviepy - Writing video /Users/lgk1910/Library/CloudStorage/OneDrive-AaltoUniversity/Learning2/ReinforcementLearning/Project/GitHub/Reinforcement-Learning-Project/results/SandingEnvMiddle/ddpg_extension/video/train/project-episode-9000.mp4\n",
      "\n"
     ]
    },
    {
     "name": "stderr",
     "output_type": "stream",
     "text": [
      "                                                               \r"
     ]
    },
    {
     "name": "stdout",
     "output_type": "stream",
     "text": [
      "Moviepy - Done !\n",
      "Moviepy - video ready /Users/lgk1910/Library/CloudStorage/OneDrive-AaltoUniversity/Learning2/ReinforcementLearning/Project/GitHub/Reinforcement-Learning-Project/results/SandingEnvMiddle/ddpg_extension/video/train/project-episode-9000.mp4\n",
      "Episode 9000 Step 180020 finished. Average episode return: 0.63\n",
      "Episode 9100 Step 182020 finished. Average episode return: 0.72\n",
      "Episode 9200 Step 184020 finished. Average episode return: 0.71\n",
      "Episode 9300 Step 186020 finished. Average episode return: 0.74\n",
      "Episode 9400 Step 188020 finished. Average episode return: 0.82\n",
      "Episode 9500 Step 190020 finished. Average episode return: 0.58\n",
      "Episode 9600 Step 192020 finished. Average episode return: 0.74\n",
      "Episode 9700 Step 194020 finished. Average episode return: 0.74\n",
      "Episode 9800 Step 196020 finished. Average episode return: 0.71\n",
      "Episode 9900 Step 198020 finished. Average episode return: 0.79\n",
      "Moviepy - Building video /Users/lgk1910/Library/CloudStorage/OneDrive-AaltoUniversity/Learning2/ReinforcementLearning/Project/GitHub/Reinforcement-Learning-Project/results/SandingEnvMiddle/ddpg_extension/video/train/project-episode-10000.mp4.\n",
      "Moviepy - Writing video /Users/lgk1910/Library/CloudStorage/OneDrive-AaltoUniversity/Learning2/ReinforcementLearning/Project/GitHub/Reinforcement-Learning-Project/results/SandingEnvMiddle/ddpg_extension/video/train/project-episode-10000.mp4\n",
      "\n"
     ]
    },
    {
     "name": "stderr",
     "output_type": "stream",
     "text": [
      "/Users/lgk1910/anaconda3/envs/rl/lib/python3.10/site-packages/gymnasium/envs/registration.py:694: UserWarning: \u001b[33mWARN: Overriding environment SandingEnvMiddle already in registry.\u001b[0m\n",
      "  logger.warn(f\"Overriding environment {new_spec.id} already in registry.\")\n",
      "/Users/lgk1910/Library/CloudStorage/OneDrive-AaltoUniversity/Learning2/ReinforcementLearning/Project/GitHub/Reinforcement-Learning-Project/utils/recorder.py:250: UserWarning: \u001b[33mWARN: Overwriting existing videos at /Users/lgk1910/Library/CloudStorage/OneDrive-AaltoUniversity/Learning2/ReinforcementLearning/Project/GitHub/Reinforcement-Learning-Project/results/SandingEnvMiddle/ddpg_extension/video/train folder (try specifying a different `video_folder` for the `RecordVideo` wrapper if this is not desired)\u001b[0m\n",
      "  logger.warn(\n",
      "/Users/lgk1910/anaconda3/envs/rl/lib/python3.10/site-packages/gymnasium/core.py:311: UserWarning: \u001b[33mWARN: env.is_vector_env to get variables from other wrappers is deprecated and will be removed in v1.0, to get this variable you can do `env.unwrapped.is_vector_env` for environment variables or `env.get_wrapper_attr('is_vector_env')` that will search the reminding wrappers.\u001b[0m\n",
      "  logger.warn(\n",
      "/Users/lgk1910/anaconda3/envs/rl/lib/python3.10/site-packages/gymnasium/utils/passive_env_checker.py:135: UserWarning: \u001b[33mWARN: The obs returned by the `reset()` method was expecting numpy array dtype to be float32, actual type: float64\u001b[0m\n",
      "  logger.warn(\n",
      "/Users/lgk1910/anaconda3/envs/rl/lib/python3.10/site-packages/gymnasium/utils/passive_env_checker.py:159: UserWarning: \u001b[33mWARN: The obs returned by the `reset()` method is not within the observation space.\u001b[0m\n",
      "  logger.warn(f\"{pre} is not within the observation space.\")\n",
      "/Users/lgk1910/anaconda3/envs/rl/lib/python3.10/site-packages/gymnasium/utils/passive_env_checker.py:271: UserWarning: \u001b[33mWARN: RGB-array rendering should return a numpy array, got <class 'list'>\u001b[0m\n",
      "  logger.warn(\n"
     ]
    },
    {
     "name": "stdout",
     "output_type": "stream",
     "text": [
      "Moviepy - Done !\n",
      "Moviepy - video ready /Users/lgk1910/Library/CloudStorage/OneDrive-AaltoUniversity/Learning2/ReinforcementLearning/Project/GitHub/Reinforcement-Learning-Project/results/SandingEnvMiddle/ddpg_extension/video/train/project-episode-10000.mp4\n",
      "Episode 10000 Step 200020 finished. Average episode return: 0.65\n",
      "Saved model to /Users/lgk1910/Library/CloudStorage/OneDrive-AaltoUniversity/Learning2/ReinforcementLearning/Project/GitHub/Reinforcement-Learning-Project/results/SandingEnvMiddle/ddpg_extension/model/model_parameters_0.pt ...\n",
      "logger and seed 0\n",
      "/Users/lgk1910/Library/CloudStorage/OneDrive-AaltoUniversity/Learning2/ReinforcementLearning/Project/GitHub/Reinforcement-Learning-Project/results/SandingEnvMiddle/ddpg_extension/logging/logs_0.csv\n",
      "------ Training Finished ------\n",
      "Total traning time is 6.174033665965544mins\n",
      "Moviepy - Building video /Users/lgk1910/Library/CloudStorage/OneDrive-AaltoUniversity/Learning2/ReinforcementLearning/Project/GitHub/Reinforcement-Learning-Project/results/SandingEnvMiddle/ddpg_extension/video/train/project-episode-0.mp4.\n",
      "Moviepy - Writing video /Users/lgk1910/Library/CloudStorage/OneDrive-AaltoUniversity/Learning2/ReinforcementLearning/Project/GitHub/Reinforcement-Learning-Project/results/SandingEnvMiddle/ddpg_extension/video/train/project-episode-0.mp4\n",
      "\n"
     ]
    },
    {
     "name": "stderr",
     "output_type": "stream",
     "text": [
      "                                                  \r"
     ]
    },
    {
     "name": "stdout",
     "output_type": "stream",
     "text": [
      "Moviepy - Done !\n",
      "Moviepy - video ready /Users/lgk1910/Library/CloudStorage/OneDrive-AaltoUniversity/Learning2/ReinforcementLearning/Project/GitHub/Reinforcement-Learning-Project/results/SandingEnvMiddle/ddpg_extension/video/train/project-episode-0.mp4\n",
      "Moviepy - Building video /Users/lgk1910/Library/CloudStorage/OneDrive-AaltoUniversity/Learning2/ReinforcementLearning/Project/GitHub/Reinforcement-Learning-Project/results/SandingEnvMiddle/ddpg_extension/video/train/project-episode-0.mp4.\n",
      "Moviepy - Writing video /Users/lgk1910/Library/CloudStorage/OneDrive-AaltoUniversity/Learning2/ReinforcementLearning/Project/GitHub/Reinforcement-Learning-Project/results/SandingEnvMiddle/ddpg_extension/video/train/project-episode-0.mp4\n",
      "\n"
     ]
    },
    {
     "name": "stderr",
     "output_type": "stream",
     "text": [
      "                                                               \r"
     ]
    },
    {
     "name": "stdout",
     "output_type": "stream",
     "text": [
      "Moviepy - Done !\n",
      "Moviepy - video ready /Users/lgk1910/Library/CloudStorage/OneDrive-AaltoUniversity/Learning2/ReinforcementLearning/Project/GitHub/Reinforcement-Learning-Project/results/SandingEnvMiddle/ddpg_extension/video/train/project-episode-0.mp4\n",
      "Episode 0 Step 20 finished. Average episode return: 0.0\n",
      "Episode 100 Step 2020 finished. Average episode return: 0.08\n",
      "Episode 200 Step 4020 finished. Average episode return: 0.11\n",
      "Episode 300 Step 6020 finished. Average episode return: -0.03\n",
      "Episode 400 Step 8020 finished. Average episode return: 0.05\n",
      "Episode 500 Step 10020 finished. Average episode return: -0.18\n",
      "Episode 600 Step 12020 finished. Average episode return: -0.06\n",
      "Episode 700 Step 14020 finished. Average episode return: 0.03\n",
      "Episode 800 Step 16020 finished. Average episode return: 0.05\n",
      "Episode 900 Step 18020 finished. Average episode return: -0.05\n",
      "Moviepy - Building video /Users/lgk1910/Library/CloudStorage/OneDrive-AaltoUniversity/Learning2/ReinforcementLearning/Project/GitHub/Reinforcement-Learning-Project/results/SandingEnvMiddle/ddpg_extension/video/train/project-episode-1000.mp4.\n",
      "Moviepy - Writing video /Users/lgk1910/Library/CloudStorage/OneDrive-AaltoUniversity/Learning2/ReinforcementLearning/Project/GitHub/Reinforcement-Learning-Project/results/SandingEnvMiddle/ddpg_extension/video/train/project-episode-1000.mp4\n",
      "\n"
     ]
    },
    {
     "name": "stderr",
     "output_type": "stream",
     "text": [
      "                                                               \r"
     ]
    },
    {
     "name": "stdout",
     "output_type": "stream",
     "text": [
      "Moviepy - Done !\n",
      "Moviepy - video ready /Users/lgk1910/Library/CloudStorage/OneDrive-AaltoUniversity/Learning2/ReinforcementLearning/Project/GitHub/Reinforcement-Learning-Project/results/SandingEnvMiddle/ddpg_extension/video/train/project-episode-1000.mp4\n",
      "Episode 1000 Step 20020 finished. Average episode return: 0.04\n",
      "Episode 1100 Step 22020 finished. Average episode return: 0.07\n",
      "Episode 1200 Step 24020 finished. Average episode return: 0.33\n",
      "Episode 1300 Step 26020 finished. Average episode return: 0.17\n",
      "Episode 1400 Step 28020 finished. Average episode return: 0.31\n",
      "Episode 1500 Step 30020 finished. Average episode return: 0.4\n",
      "Episode 1600 Step 32020 finished. Average episode return: 0.26\n",
      "Episode 1700 Step 34020 finished. Average episode return: 0.36\n",
      "Episode 1800 Step 36020 finished. Average episode return: 0.44\n",
      "Episode 1900 Step 38020 finished. Average episode return: 0.64\n",
      "Moviepy - Building video /Users/lgk1910/Library/CloudStorage/OneDrive-AaltoUniversity/Learning2/ReinforcementLearning/Project/GitHub/Reinforcement-Learning-Project/results/SandingEnvMiddle/ddpg_extension/video/train/project-episode-2000.mp4.\n",
      "Moviepy - Writing video /Users/lgk1910/Library/CloudStorage/OneDrive-AaltoUniversity/Learning2/ReinforcementLearning/Project/GitHub/Reinforcement-Learning-Project/results/SandingEnvMiddle/ddpg_extension/video/train/project-episode-2000.mp4\n",
      "\n"
     ]
    },
    {
     "name": "stderr",
     "output_type": "stream",
     "text": [
      "                                                               \r"
     ]
    },
    {
     "name": "stdout",
     "output_type": "stream",
     "text": [
      "Moviepy - Done !\n",
      "Moviepy - video ready /Users/lgk1910/Library/CloudStorage/OneDrive-AaltoUniversity/Learning2/ReinforcementLearning/Project/GitHub/Reinforcement-Learning-Project/results/SandingEnvMiddle/ddpg_extension/video/train/project-episode-2000.mp4\n",
      "Episode 2000 Step 40020 finished. Average episode return: 0.49\n",
      "Episode 2100 Step 42020 finished. Average episode return: 0.49\n",
      "Episode 2200 Step 44020 finished. Average episode return: 0.5\n",
      "Episode 2300 Step 46020 finished. Average episode return: 0.54\n",
      "Episode 2400 Step 48020 finished. Average episode return: 0.81\n",
      "Episode 2500 Step 50020 finished. Average episode return: 0.46\n",
      "Episode 2600 Step 52020 finished. Average episode return: 0.52\n",
      "Episode 2700 Step 54020 finished. Average episode return: 0.62\n",
      "Episode 2800 Step 56020 finished. Average episode return: 0.5\n",
      "Episode 2900 Step 58020 finished. Average episode return: 0.6\n",
      "Moviepy - Building video /Users/lgk1910/Library/CloudStorage/OneDrive-AaltoUniversity/Learning2/ReinforcementLearning/Project/GitHub/Reinforcement-Learning-Project/results/SandingEnvMiddle/ddpg_extension/video/train/project-episode-3000.mp4.\n",
      "Moviepy - Writing video /Users/lgk1910/Library/CloudStorage/OneDrive-AaltoUniversity/Learning2/ReinforcementLearning/Project/GitHub/Reinforcement-Learning-Project/results/SandingEnvMiddle/ddpg_extension/video/train/project-episode-3000.mp4\n",
      "\n"
     ]
    },
    {
     "name": "stderr",
     "output_type": "stream",
     "text": [
      "                                                               \r"
     ]
    },
    {
     "name": "stdout",
     "output_type": "stream",
     "text": [
      "Moviepy - Done !\n",
      "Moviepy - video ready /Users/lgk1910/Library/CloudStorage/OneDrive-AaltoUniversity/Learning2/ReinforcementLearning/Project/GitHub/Reinforcement-Learning-Project/results/SandingEnvMiddle/ddpg_extension/video/train/project-episode-3000.mp4\n",
      "Episode 3000 Step 60020 finished. Average episode return: 0.67\n",
      "Episode 3100 Step 62020 finished. Average episode return: 0.87\n",
      "Episode 3200 Step 64020 finished. Average episode return: 0.56\n",
      "Episode 3300 Step 66020 finished. Average episode return: 0.49\n",
      "Episode 3400 Step 68020 finished. Average episode return: 0.6\n",
      "Episode 3500 Step 70020 finished. Average episode return: 0.59\n",
      "Episode 3600 Step 72020 finished. Average episode return: 0.64\n",
      "Episode 3700 Step 74020 finished. Average episode return: 0.5\n",
      "Episode 3800 Step 76020 finished. Average episode return: 0.6\n",
      "Episode 3900 Step 78020 finished. Average episode return: 0.5\n",
      "Moviepy - Building video /Users/lgk1910/Library/CloudStorage/OneDrive-AaltoUniversity/Learning2/ReinforcementLearning/Project/GitHub/Reinforcement-Learning-Project/results/SandingEnvMiddle/ddpg_extension/video/train/project-episode-4000.mp4.\n",
      "Moviepy - Writing video /Users/lgk1910/Library/CloudStorage/OneDrive-AaltoUniversity/Learning2/ReinforcementLearning/Project/GitHub/Reinforcement-Learning-Project/results/SandingEnvMiddle/ddpg_extension/video/train/project-episode-4000.mp4\n",
      "\n"
     ]
    },
    {
     "name": "stderr",
     "output_type": "stream",
     "text": [
      "                                                               \r"
     ]
    },
    {
     "name": "stdout",
     "output_type": "stream",
     "text": [
      "Moviepy - Done !\n",
      "Moviepy - video ready /Users/lgk1910/Library/CloudStorage/OneDrive-AaltoUniversity/Learning2/ReinforcementLearning/Project/GitHub/Reinforcement-Learning-Project/results/SandingEnvMiddle/ddpg_extension/video/train/project-episode-4000.mp4\n",
      "Episode 4000 Step 80020 finished. Average episode return: 0.49\n",
      "Episode 4100 Step 82020 finished. Average episode return: 0.64\n",
      "Episode 4200 Step 84020 finished. Average episode return: 0.44\n",
      "Episode 4300 Step 86020 finished. Average episode return: 0.62\n",
      "Episode 4400 Step 88020 finished. Average episode return: 0.78\n",
      "Episode 4500 Step 90020 finished. Average episode return: 0.67\n",
      "Episode 4600 Step 92020 finished. Average episode return: 0.77\n",
      "Episode 4700 Step 94020 finished. Average episode return: 0.75\n",
      "Episode 4800 Step 96020 finished. Average episode return: 0.59\n",
      "Episode 4900 Step 98020 finished. Average episode return: 0.81\n",
      "Moviepy - Building video /Users/lgk1910/Library/CloudStorage/OneDrive-AaltoUniversity/Learning2/ReinforcementLearning/Project/GitHub/Reinforcement-Learning-Project/results/SandingEnvMiddle/ddpg_extension/video/train/project-episode-5000.mp4.\n",
      "Moviepy - Writing video /Users/lgk1910/Library/CloudStorage/OneDrive-AaltoUniversity/Learning2/ReinforcementLearning/Project/GitHub/Reinforcement-Learning-Project/results/SandingEnvMiddle/ddpg_extension/video/train/project-episode-5000.mp4\n",
      "\n"
     ]
    },
    {
     "name": "stderr",
     "output_type": "stream",
     "text": [
      "                                                               \r"
     ]
    },
    {
     "name": "stdout",
     "output_type": "stream",
     "text": [
      "Moviepy - Done !\n",
      "Moviepy - video ready /Users/lgk1910/Library/CloudStorage/OneDrive-AaltoUniversity/Learning2/ReinforcementLearning/Project/GitHub/Reinforcement-Learning-Project/results/SandingEnvMiddle/ddpg_extension/video/train/project-episode-5000.mp4\n",
      "Episode 5000 Step 100020 finished. Average episode return: 0.6\n",
      "Episode 5100 Step 102020 finished. Average episode return: 0.68\n",
      "Episode 5200 Step 104020 finished. Average episode return: 0.9\n",
      "Episode 5300 Step 106020 finished. Average episode return: 0.76\n",
      "Episode 5400 Step 108020 finished. Average episode return: 0.7\n",
      "Episode 5500 Step 110020 finished. Average episode return: 0.69\n",
      "Episode 5600 Step 112020 finished. Average episode return: 0.6\n",
      "Episode 5700 Step 114020 finished. Average episode return: 0.67\n",
      "Episode 5800 Step 116020 finished. Average episode return: 0.55\n",
      "Episode 5900 Step 118020 finished. Average episode return: 0.74\n",
      "Moviepy - Building video /Users/lgk1910/Library/CloudStorage/OneDrive-AaltoUniversity/Learning2/ReinforcementLearning/Project/GitHub/Reinforcement-Learning-Project/results/SandingEnvMiddle/ddpg_extension/video/train/project-episode-6000.mp4.\n",
      "Moviepy - Writing video /Users/lgk1910/Library/CloudStorage/OneDrive-AaltoUniversity/Learning2/ReinforcementLearning/Project/GitHub/Reinforcement-Learning-Project/results/SandingEnvMiddle/ddpg_extension/video/train/project-episode-6000.mp4\n",
      "\n"
     ]
    },
    {
     "name": "stderr",
     "output_type": "stream",
     "text": [
      "                                                               \r"
     ]
    },
    {
     "name": "stdout",
     "output_type": "stream",
     "text": [
      "Moviepy - Done !\n",
      "Moviepy - video ready /Users/lgk1910/Library/CloudStorage/OneDrive-AaltoUniversity/Learning2/ReinforcementLearning/Project/GitHub/Reinforcement-Learning-Project/results/SandingEnvMiddle/ddpg_extension/video/train/project-episode-6000.mp4\n",
      "Episode 6000 Step 120020 finished. Average episode return: 0.58\n",
      "Episode 6100 Step 122020 finished. Average episode return: 0.68\n",
      "Episode 6200 Step 124020 finished. Average episode return: 0.65\n",
      "Episode 6300 Step 126020 finished. Average episode return: 0.65\n",
      "Episode 6400 Step 128020 finished. Average episode return: 0.53\n",
      "Episode 6500 Step 130020 finished. Average episode return: 0.57\n",
      "Episode 6600 Step 132020 finished. Average episode return: 0.6\n",
      "Episode 6700 Step 134020 finished. Average episode return: 0.52\n",
      "Episode 6800 Step 136020 finished. Average episode return: 0.51\n",
      "Episode 6900 Step 138020 finished. Average episode return: 0.57\n",
      "Moviepy - Building video /Users/lgk1910/Library/CloudStorage/OneDrive-AaltoUniversity/Learning2/ReinforcementLearning/Project/GitHub/Reinforcement-Learning-Project/results/SandingEnvMiddle/ddpg_extension/video/train/project-episode-7000.mp4.\n",
      "Moviepy - Writing video /Users/lgk1910/Library/CloudStorage/OneDrive-AaltoUniversity/Learning2/ReinforcementLearning/Project/GitHub/Reinforcement-Learning-Project/results/SandingEnvMiddle/ddpg_extension/video/train/project-episode-7000.mp4\n",
      "\n"
     ]
    },
    {
     "name": "stderr",
     "output_type": "stream",
     "text": [
      "                                                               \r"
     ]
    },
    {
     "name": "stdout",
     "output_type": "stream",
     "text": [
      "Moviepy - Done !\n",
      "Moviepy - video ready /Users/lgk1910/Library/CloudStorage/OneDrive-AaltoUniversity/Learning2/ReinforcementLearning/Project/GitHub/Reinforcement-Learning-Project/results/SandingEnvMiddle/ddpg_extension/video/train/project-episode-7000.mp4\n",
      "Episode 7000 Step 140020 finished. Average episode return: 0.43\n",
      "Episode 7100 Step 142020 finished. Average episode return: 0.81\n",
      "Episode 7200 Step 144020 finished. Average episode return: 0.66\n",
      "Episode 7300 Step 146020 finished. Average episode return: 0.71\n",
      "Episode 7400 Step 148020 finished. Average episode return: 0.73\n",
      "Episode 7500 Step 150020 finished. Average episode return: 0.64\n",
      "Episode 7600 Step 152020 finished. Average episode return: 0.54\n",
      "Episode 7700 Step 154020 finished. Average episode return: 0.58\n",
      "Episode 7800 Step 156020 finished. Average episode return: 0.61\n",
      "Episode 7900 Step 158020 finished. Average episode return: 0.79\n",
      "Moviepy - Building video /Users/lgk1910/Library/CloudStorage/OneDrive-AaltoUniversity/Learning2/ReinforcementLearning/Project/GitHub/Reinforcement-Learning-Project/results/SandingEnvMiddle/ddpg_extension/video/train/project-episode-8000.mp4.\n",
      "Moviepy - Writing video /Users/lgk1910/Library/CloudStorage/OneDrive-AaltoUniversity/Learning2/ReinforcementLearning/Project/GitHub/Reinforcement-Learning-Project/results/SandingEnvMiddle/ddpg_extension/video/train/project-episode-8000.mp4\n",
      "\n"
     ]
    },
    {
     "name": "stderr",
     "output_type": "stream",
     "text": [
      "                                                               \r"
     ]
    },
    {
     "name": "stdout",
     "output_type": "stream",
     "text": [
      "Moviepy - Done !\n",
      "Moviepy - video ready /Users/lgk1910/Library/CloudStorage/OneDrive-AaltoUniversity/Learning2/ReinforcementLearning/Project/GitHub/Reinforcement-Learning-Project/results/SandingEnvMiddle/ddpg_extension/video/train/project-episode-8000.mp4\n",
      "Episode 8000 Step 160020 finished. Average episode return: 0.68\n",
      "Episode 8100 Step 162020 finished. Average episode return: 0.77\n",
      "Episode 8200 Step 164020 finished. Average episode return: 0.68\n",
      "Episode 8300 Step 166020 finished. Average episode return: 0.63\n",
      "Episode 8400 Step 168020 finished. Average episode return: 0.61\n",
      "Episode 8500 Step 170020 finished. Average episode return: 0.69\n",
      "Episode 8600 Step 172020 finished. Average episode return: 0.59\n",
      "Episode 8700 Step 174020 finished. Average episode return: 0.49\n",
      "Episode 8800 Step 176020 finished. Average episode return: 0.6\n",
      "Episode 8900 Step 178020 finished. Average episode return: 0.72\n",
      "Moviepy - Building video /Users/lgk1910/Library/CloudStorage/OneDrive-AaltoUniversity/Learning2/ReinforcementLearning/Project/GitHub/Reinforcement-Learning-Project/results/SandingEnvMiddle/ddpg_extension/video/train/project-episode-9000.mp4.\n",
      "Moviepy - Writing video /Users/lgk1910/Library/CloudStorage/OneDrive-AaltoUniversity/Learning2/ReinforcementLearning/Project/GitHub/Reinforcement-Learning-Project/results/SandingEnvMiddle/ddpg_extension/video/train/project-episode-9000.mp4\n",
      "\n"
     ]
    },
    {
     "name": "stderr",
     "output_type": "stream",
     "text": [
      "                                                               \r"
     ]
    },
    {
     "name": "stdout",
     "output_type": "stream",
     "text": [
      "Moviepy - Done !\n",
      "Moviepy - video ready /Users/lgk1910/Library/CloudStorage/OneDrive-AaltoUniversity/Learning2/ReinforcementLearning/Project/GitHub/Reinforcement-Learning-Project/results/SandingEnvMiddle/ddpg_extension/video/train/project-episode-9000.mp4\n",
      "Episode 9000 Step 180020 finished. Average episode return: 0.7\n",
      "Episode 9100 Step 182020 finished. Average episode return: 0.74\n",
      "Episode 9200 Step 184020 finished. Average episode return: 0.71\n",
      "Episode 9300 Step 186020 finished. Average episode return: 0.56\n",
      "Episode 9400 Step 188020 finished. Average episode return: 0.86\n",
      "Episode 9500 Step 190020 finished. Average episode return: 0.46\n",
      "Episode 9600 Step 192020 finished. Average episode return: 0.81\n",
      "Episode 9700 Step 194020 finished. Average episode return: 0.71\n",
      "Episode 9800 Step 196020 finished. Average episode return: 0.63\n",
      "Episode 9900 Step 198020 finished. Average episode return: 0.59\n",
      "Moviepy - Building video /Users/lgk1910/Library/CloudStorage/OneDrive-AaltoUniversity/Learning2/ReinforcementLearning/Project/GitHub/Reinforcement-Learning-Project/results/SandingEnvMiddle/ddpg_extension/video/train/project-episode-10000.mp4.\n",
      "Moviepy - Writing video /Users/lgk1910/Library/CloudStorage/OneDrive-AaltoUniversity/Learning2/ReinforcementLearning/Project/GitHub/Reinforcement-Learning-Project/results/SandingEnvMiddle/ddpg_extension/video/train/project-episode-10000.mp4\n",
      "\n"
     ]
    },
    {
     "name": "stderr",
     "output_type": "stream",
     "text": [
      "                                                               \r"
     ]
    },
    {
     "name": "stdout",
     "output_type": "stream",
     "text": [
      "Moviepy - Done !\n",
      "Moviepy - video ready /Users/lgk1910/Library/CloudStorage/OneDrive-AaltoUniversity/Learning2/ReinforcementLearning/Project/GitHub/Reinforcement-Learning-Project/results/SandingEnvMiddle/ddpg_extension/video/train/project-episode-10000.mp4\n",
      "Episode 10000 Step 200020 finished. Average episode return: 0.75\n",
      "Saved model to /Users/lgk1910/Library/CloudStorage/OneDrive-AaltoUniversity/Learning2/ReinforcementLearning/Project/GitHub/Reinforcement-Learning-Project/results/SandingEnvMiddle/ddpg_extension/model/model_parameters_1.pt ...\n",
      "logger and seed 1\n",
      "/Users/lgk1910/Library/CloudStorage/OneDrive-AaltoUniversity/Learning2/ReinforcementLearning/Project/GitHub/Reinforcement-Learning-Project/results/SandingEnvMiddle/ddpg_extension/logging/logs_1.csv\n",
      "------ Training Finished ------\n",
      "Total traning time is 6.853098591667367mins\n",
      "Moviepy - Building video /Users/lgk1910/Library/CloudStorage/OneDrive-AaltoUniversity/Learning2/ReinforcementLearning/Project/GitHub/Reinforcement-Learning-Project/results/SandingEnvMiddle/ddpg_extension/video/train/project-episode-0.mp4.\n",
      "Moviepy - Writing video /Users/lgk1910/Library/CloudStorage/OneDrive-AaltoUniversity/Learning2/ReinforcementLearning/Project/GitHub/Reinforcement-Learning-Project/results/SandingEnvMiddle/ddpg_extension/video/train/project-episode-0.mp4\n",
      "\n"
     ]
    },
    {
     "name": "stderr",
     "output_type": "stream",
     "text": [
      "                                                  "
     ]
    },
    {
     "name": "stdout",
     "output_type": "stream",
     "text": [
      "Moviepy - Done !\n",
      "Moviepy - video ready /Users/lgk1910/Library/CloudStorage/OneDrive-AaltoUniversity/Learning2/ReinforcementLearning/Project/GitHub/Reinforcement-Learning-Project/results/SandingEnvMiddle/ddpg_extension/video/train/project-episode-0.mp4\n"
     ]
    },
    {
     "name": "stderr",
     "output_type": "stream",
     "text": [
      "\r"
     ]
    },
    {
     "name": "stdout",
     "output_type": "stream",
     "text": [
      "Moviepy - Building video /Users/lgk1910/Library/CloudStorage/OneDrive-AaltoUniversity/Learning2/ReinforcementLearning/Project/GitHub/Reinforcement-Learning-Project/results/SandingEnvMiddle/ddpg_extension/video/train/project-episode-0.mp4.\n",
      "Moviepy - Writing video /Users/lgk1910/Library/CloudStorage/OneDrive-AaltoUniversity/Learning2/ReinforcementLearning/Project/GitHub/Reinforcement-Learning-Project/results/SandingEnvMiddle/ddpg_extension/video/train/project-episode-0.mp4\n",
      "\n"
     ]
    },
    {
     "name": "stderr",
     "output_type": "stream",
     "text": [
      "                                                               \r"
     ]
    },
    {
     "name": "stdout",
     "output_type": "stream",
     "text": [
      "Moviepy - Done !\n",
      "Moviepy - video ready /Users/lgk1910/Library/CloudStorage/OneDrive-AaltoUniversity/Learning2/ReinforcementLearning/Project/GitHub/Reinforcement-Learning-Project/results/SandingEnvMiddle/ddpg_extension/video/train/project-episode-0.mp4\n",
      "Episode 0 Step 20 finished. Average episode return: 1.0\n",
      "Episode 100 Step 2020 finished. Average episode return: 0.0\n",
      "Episode 200 Step 4020 finished. Average episode return: 0.09\n",
      "Episode 300 Step 6020 finished. Average episode return: 0.0\n",
      "Episode 400 Step 8020 finished. Average episode return: 0.15\n",
      "Episode 500 Step 10020 finished. Average episode return: 0.03\n",
      "Episode 600 Step 12020 finished. Average episode return: 0.1\n",
      "Episode 700 Step 14020 finished. Average episode return: 0.27\n",
      "Episode 800 Step 16020 finished. Average episode return: 0.24\n",
      "Episode 900 Step 18020 finished. Average episode return: 0.11\n",
      "Moviepy - Building video /Users/lgk1910/Library/CloudStorage/OneDrive-AaltoUniversity/Learning2/ReinforcementLearning/Project/GitHub/Reinforcement-Learning-Project/results/SandingEnvMiddle/ddpg_extension/video/train/project-episode-1000.mp4.\n",
      "Moviepy - Writing video /Users/lgk1910/Library/CloudStorage/OneDrive-AaltoUniversity/Learning2/ReinforcementLearning/Project/GitHub/Reinforcement-Learning-Project/results/SandingEnvMiddle/ddpg_extension/video/train/project-episode-1000.mp4\n",
      "\n"
     ]
    },
    {
     "name": "stderr",
     "output_type": "stream",
     "text": [
      "                                                               \r"
     ]
    },
    {
     "name": "stdout",
     "output_type": "stream",
     "text": [
      "Moviepy - Done !\n",
      "Moviepy - video ready /Users/lgk1910/Library/CloudStorage/OneDrive-AaltoUniversity/Learning2/ReinforcementLearning/Project/GitHub/Reinforcement-Learning-Project/results/SandingEnvMiddle/ddpg_extension/video/train/project-episode-1000.mp4\n",
      "Episode 1000 Step 20020 finished. Average episode return: 0.2\n",
      "Episode 1100 Step 22020 finished. Average episode return: 0.13\n",
      "Episode 1200 Step 24020 finished. Average episode return: 0.23\n",
      "Episode 1300 Step 26020 finished. Average episode return: 0.21\n",
      "Episode 1400 Step 28020 finished. Average episode return: 0.22\n",
      "Episode 1500 Step 30020 finished. Average episode return: 0.19\n",
      "Episode 1600 Step 32020 finished. Average episode return: 0.3\n",
      "Episode 1700 Step 34020 finished. Average episode return: 0.43\n",
      "Episode 1800 Step 36020 finished. Average episode return: 0.13\n",
      "Episode 1900 Step 38020 finished. Average episode return: 0.31\n",
      "Moviepy - Building video /Users/lgk1910/Library/CloudStorage/OneDrive-AaltoUniversity/Learning2/ReinforcementLearning/Project/GitHub/Reinforcement-Learning-Project/results/SandingEnvMiddle/ddpg_extension/video/train/project-episode-2000.mp4.\n",
      "Moviepy - Writing video /Users/lgk1910/Library/CloudStorage/OneDrive-AaltoUniversity/Learning2/ReinforcementLearning/Project/GitHub/Reinforcement-Learning-Project/results/SandingEnvMiddle/ddpg_extension/video/train/project-episode-2000.mp4\n",
      "\n"
     ]
    },
    {
     "name": "stderr",
     "output_type": "stream",
     "text": [
      "                                                               \r"
     ]
    },
    {
     "name": "stdout",
     "output_type": "stream",
     "text": [
      "Moviepy - Done !\n",
      "Moviepy - video ready /Users/lgk1910/Library/CloudStorage/OneDrive-AaltoUniversity/Learning2/ReinforcementLearning/Project/GitHub/Reinforcement-Learning-Project/results/SandingEnvMiddle/ddpg_extension/video/train/project-episode-2000.mp4\n",
      "Episode 2000 Step 40020 finished. Average episode return: 0.32\n",
      "Episode 2100 Step 42020 finished. Average episode return: 0.38\n",
      "Episode 2200 Step 44020 finished. Average episode return: 0.19\n",
      "Episode 2300 Step 46020 finished. Average episode return: 0.29\n",
      "Episode 2400 Step 48020 finished. Average episode return: 0.41\n",
      "Episode 2500 Step 50020 finished. Average episode return: 0.27\n",
      "Episode 2600 Step 52020 finished. Average episode return: 0.26\n",
      "Episode 2700 Step 54020 finished. Average episode return: 0.11\n",
      "Episode 2800 Step 56020 finished. Average episode return: 0.31\n",
      "Episode 2900 Step 58020 finished. Average episode return: 0.32\n",
      "Moviepy - Building video /Users/lgk1910/Library/CloudStorage/OneDrive-AaltoUniversity/Learning2/ReinforcementLearning/Project/GitHub/Reinforcement-Learning-Project/results/SandingEnvMiddle/ddpg_extension/video/train/project-episode-3000.mp4.\n",
      "Moviepy - Writing video /Users/lgk1910/Library/CloudStorage/OneDrive-AaltoUniversity/Learning2/ReinforcementLearning/Project/GitHub/Reinforcement-Learning-Project/results/SandingEnvMiddle/ddpg_extension/video/train/project-episode-3000.mp4\n",
      "\n"
     ]
    },
    {
     "name": "stderr",
     "output_type": "stream",
     "text": [
      "                                                               \r"
     ]
    },
    {
     "name": "stdout",
     "output_type": "stream",
     "text": [
      "Moviepy - Done !\n",
      "Moviepy - video ready /Users/lgk1910/Library/CloudStorage/OneDrive-AaltoUniversity/Learning2/ReinforcementLearning/Project/GitHub/Reinforcement-Learning-Project/results/SandingEnvMiddle/ddpg_extension/video/train/project-episode-3000.mp4\n",
      "Episode 3000 Step 60020 finished. Average episode return: 0.5\n",
      "Episode 3100 Step 62020 finished. Average episode return: 0.36\n",
      "Episode 3200 Step 64020 finished. Average episode return: 0.4\n",
      "Episode 3300 Step 66020 finished. Average episode return: 0.3\n",
      "Episode 3400 Step 68020 finished. Average episode return: 0.27\n",
      "Episode 3500 Step 70020 finished. Average episode return: 0.6\n",
      "Episode 3600 Step 72020 finished. Average episode return: 0.43\n",
      "Episode 3700 Step 74020 finished. Average episode return: 0.32\n",
      "Episode 3800 Step 76020 finished. Average episode return: 0.35\n",
      "Episode 3900 Step 78020 finished. Average episode return: 0.39\n",
      "Moviepy - Building video /Users/lgk1910/Library/CloudStorage/OneDrive-AaltoUniversity/Learning2/ReinforcementLearning/Project/GitHub/Reinforcement-Learning-Project/results/SandingEnvMiddle/ddpg_extension/video/train/project-episode-4000.mp4.\n",
      "Moviepy - Writing video /Users/lgk1910/Library/CloudStorage/OneDrive-AaltoUniversity/Learning2/ReinforcementLearning/Project/GitHub/Reinforcement-Learning-Project/results/SandingEnvMiddle/ddpg_extension/video/train/project-episode-4000.mp4\n",
      "\n"
     ]
    },
    {
     "name": "stderr",
     "output_type": "stream",
     "text": [
      "                                                               \r"
     ]
    },
    {
     "name": "stdout",
     "output_type": "stream",
     "text": [
      "Moviepy - Done !\n",
      "Moviepy - video ready /Users/lgk1910/Library/CloudStorage/OneDrive-AaltoUniversity/Learning2/ReinforcementLearning/Project/GitHub/Reinforcement-Learning-Project/results/SandingEnvMiddle/ddpg_extension/video/train/project-episode-4000.mp4\n",
      "Episode 4000 Step 80020 finished. Average episode return: 0.23\n",
      "Episode 4100 Step 82020 finished. Average episode return: 0.33\n",
      "Episode 4200 Step 84020 finished. Average episode return: 0.25\n",
      "Episode 4300 Step 86020 finished. Average episode return: 0.24\n",
      "Episode 4400 Step 88020 finished. Average episode return: 0.34\n",
      "Episode 4500 Step 90020 finished. Average episode return: 0.31\n",
      "Episode 4600 Step 92020 finished. Average episode return: 0.25\n",
      "Episode 4700 Step 94020 finished. Average episode return: 0.29\n",
      "Episode 4800 Step 96020 finished. Average episode return: 0.18\n",
      "Episode 4900 Step 98020 finished. Average episode return: 0.21\n",
      "Moviepy - Building video /Users/lgk1910/Library/CloudStorage/OneDrive-AaltoUniversity/Learning2/ReinforcementLearning/Project/GitHub/Reinforcement-Learning-Project/results/SandingEnvMiddle/ddpg_extension/video/train/project-episode-5000.mp4.\n",
      "Moviepy - Writing video /Users/lgk1910/Library/CloudStorage/OneDrive-AaltoUniversity/Learning2/ReinforcementLearning/Project/GitHub/Reinforcement-Learning-Project/results/SandingEnvMiddle/ddpg_extension/video/train/project-episode-5000.mp4\n",
      "\n"
     ]
    },
    {
     "name": "stderr",
     "output_type": "stream",
     "text": [
      "                                                               \r"
     ]
    },
    {
     "name": "stdout",
     "output_type": "stream",
     "text": [
      "Moviepy - Done !\n",
      "Moviepy - video ready /Users/lgk1910/Library/CloudStorage/OneDrive-AaltoUniversity/Learning2/ReinforcementLearning/Project/GitHub/Reinforcement-Learning-Project/results/SandingEnvMiddle/ddpg_extension/video/train/project-episode-5000.mp4\n",
      "Episode 5000 Step 100020 finished. Average episode return: 0.08\n",
      "Episode 5100 Step 102020 finished. Average episode return: 0.31\n",
      "Episode 5200 Step 104020 finished. Average episode return: 0.38\n",
      "Episode 5300 Step 106020 finished. Average episode return: 0.17\n",
      "Episode 5400 Step 108020 finished. Average episode return: 0.11\n",
      "Episode 5500 Step 110020 finished. Average episode return: 0.08\n",
      "Episode 5600 Step 112020 finished. Average episode return: 0.23\n",
      "Episode 5700 Step 114020 finished. Average episode return: 0.19\n",
      "Episode 5800 Step 116020 finished. Average episode return: 0.28\n",
      "Episode 5900 Step 118020 finished. Average episode return: 0.39\n",
      "Moviepy - Building video /Users/lgk1910/Library/CloudStorage/OneDrive-AaltoUniversity/Learning2/ReinforcementLearning/Project/GitHub/Reinforcement-Learning-Project/results/SandingEnvMiddle/ddpg_extension/video/train/project-episode-6000.mp4.\n",
      "Moviepy - Writing video /Users/lgk1910/Library/CloudStorage/OneDrive-AaltoUniversity/Learning2/ReinforcementLearning/Project/GitHub/Reinforcement-Learning-Project/results/SandingEnvMiddle/ddpg_extension/video/train/project-episode-6000.mp4\n",
      "\n"
     ]
    },
    {
     "name": "stderr",
     "output_type": "stream",
     "text": [
      "                                                               \r"
     ]
    },
    {
     "name": "stdout",
     "output_type": "stream",
     "text": [
      "Moviepy - Done !\n",
      "Moviepy - video ready /Users/lgk1910/Library/CloudStorage/OneDrive-AaltoUniversity/Learning2/ReinforcementLearning/Project/GitHub/Reinforcement-Learning-Project/results/SandingEnvMiddle/ddpg_extension/video/train/project-episode-6000.mp4\n",
      "Episode 6000 Step 120020 finished. Average episode return: 0.19\n",
      "Episode 6100 Step 122020 finished. Average episode return: 0.25\n",
      "Episode 6200 Step 124020 finished. Average episode return: 0.4\n",
      "Episode 6300 Step 126020 finished. Average episode return: 0.38\n",
      "Episode 6400 Step 128020 finished. Average episode return: 0.39\n",
      "Episode 6500 Step 130020 finished. Average episode return: 0.41\n",
      "Episode 6600 Step 132020 finished. Average episode return: 0.46\n",
      "Episode 6700 Step 134020 finished. Average episode return: 0.49\n",
      "Episode 6800 Step 136020 finished. Average episode return: 0.42\n",
      "Episode 6900 Step 138020 finished. Average episode return: 0.57\n",
      "Moviepy - Building video /Users/lgk1910/Library/CloudStorage/OneDrive-AaltoUniversity/Learning2/ReinforcementLearning/Project/GitHub/Reinforcement-Learning-Project/results/SandingEnvMiddle/ddpg_extension/video/train/project-episode-7000.mp4.\n",
      "Moviepy - Writing video /Users/lgk1910/Library/CloudStorage/OneDrive-AaltoUniversity/Learning2/ReinforcementLearning/Project/GitHub/Reinforcement-Learning-Project/results/SandingEnvMiddle/ddpg_extension/video/train/project-episode-7000.mp4\n",
      "\n"
     ]
    },
    {
     "name": "stderr",
     "output_type": "stream",
     "text": [
      "                                                               \r"
     ]
    },
    {
     "name": "stdout",
     "output_type": "stream",
     "text": [
      "Moviepy - Done !\n",
      "Moviepy - video ready /Users/lgk1910/Library/CloudStorage/OneDrive-AaltoUniversity/Learning2/ReinforcementLearning/Project/GitHub/Reinforcement-Learning-Project/results/SandingEnvMiddle/ddpg_extension/video/train/project-episode-7000.mp4\n",
      "Episode 7000 Step 140020 finished. Average episode return: 0.54\n",
      "Episode 7100 Step 142020 finished. Average episode return: 0.66\n",
      "Episode 7200 Step 144020 finished. Average episode return: 0.4\n",
      "Episode 7300 Step 146020 finished. Average episode return: 0.73\n",
      "Episode 7400 Step 148020 finished. Average episode return: 0.72\n",
      "Episode 7500 Step 150020 finished. Average episode return: 0.66\n",
      "Episode 7600 Step 152020 finished. Average episode return: 0.45\n",
      "Episode 7700 Step 154020 finished. Average episode return: 0.53\n",
      "Episode 7800 Step 156020 finished. Average episode return: 0.39\n",
      "Episode 7900 Step 158020 finished. Average episode return: 0.61\n",
      "Moviepy - Building video /Users/lgk1910/Library/CloudStorage/OneDrive-AaltoUniversity/Learning2/ReinforcementLearning/Project/GitHub/Reinforcement-Learning-Project/results/SandingEnvMiddle/ddpg_extension/video/train/project-episode-8000.mp4.\n",
      "Moviepy - Writing video /Users/lgk1910/Library/CloudStorage/OneDrive-AaltoUniversity/Learning2/ReinforcementLearning/Project/GitHub/Reinforcement-Learning-Project/results/SandingEnvMiddle/ddpg_extension/video/train/project-episode-8000.mp4\n",
      "\n"
     ]
    },
    {
     "name": "stderr",
     "output_type": "stream",
     "text": [
      "                                                               \r"
     ]
    },
    {
     "name": "stdout",
     "output_type": "stream",
     "text": [
      "Moviepy - Done !\n",
      "Moviepy - video ready /Users/lgk1910/Library/CloudStorage/OneDrive-AaltoUniversity/Learning2/ReinforcementLearning/Project/GitHub/Reinforcement-Learning-Project/results/SandingEnvMiddle/ddpg_extension/video/train/project-episode-8000.mp4\n",
      "Episode 8000 Step 160020 finished. Average episode return: 0.7\n",
      "Episode 8100 Step 162020 finished. Average episode return: 0.56\n",
      "Episode 8200 Step 164020 finished. Average episode return: 0.63\n",
      "Episode 8300 Step 166020 finished. Average episode return: 0.54\n",
      "Episode 8400 Step 168020 finished. Average episode return: 0.44\n",
      "Episode 8500 Step 170020 finished. Average episode return: 0.59\n",
      "Episode 8600 Step 172020 finished. Average episode return: 0.6\n",
      "Episode 8700 Step 174020 finished. Average episode return: 0.55\n",
      "Episode 8800 Step 176020 finished. Average episode return: 0.69\n",
      "Episode 8900 Step 178020 finished. Average episode return: 0.68\n",
      "Moviepy - Building video /Users/lgk1910/Library/CloudStorage/OneDrive-AaltoUniversity/Learning2/ReinforcementLearning/Project/GitHub/Reinforcement-Learning-Project/results/SandingEnvMiddle/ddpg_extension/video/train/project-episode-9000.mp4.\n",
      "Moviepy - Writing video /Users/lgk1910/Library/CloudStorage/OneDrive-AaltoUniversity/Learning2/ReinforcementLearning/Project/GitHub/Reinforcement-Learning-Project/results/SandingEnvMiddle/ddpg_extension/video/train/project-episode-9000.mp4\n",
      "\n"
     ]
    },
    {
     "name": "stderr",
     "output_type": "stream",
     "text": [
      "                                                               \r"
     ]
    },
    {
     "name": "stdout",
     "output_type": "stream",
     "text": [
      "Moviepy - Done !\n",
      "Moviepy - video ready /Users/lgk1910/Library/CloudStorage/OneDrive-AaltoUniversity/Learning2/ReinforcementLearning/Project/GitHub/Reinforcement-Learning-Project/results/SandingEnvMiddle/ddpg_extension/video/train/project-episode-9000.mp4\n",
      "Episode 9000 Step 180020 finished. Average episode return: 0.62\n",
      "Episode 9100 Step 182020 finished. Average episode return: 0.72\n",
      "Episode 9200 Step 184020 finished. Average episode return: 0.69\n",
      "Episode 9300 Step 186020 finished. Average episode return: 0.56\n",
      "Episode 9400 Step 188020 finished. Average episode return: 0.77\n",
      "Episode 9500 Step 190020 finished. Average episode return: 0.54\n",
      "Episode 9600 Step 192020 finished. Average episode return: 0.64\n",
      "Episode 9700 Step 194020 finished. Average episode return: 0.66\n",
      "Episode 9800 Step 196020 finished. Average episode return: 0.69\n",
      "Episode 9900 Step 198020 finished. Average episode return: 0.58\n",
      "Moviepy - Building video /Users/lgk1910/Library/CloudStorage/OneDrive-AaltoUniversity/Learning2/ReinforcementLearning/Project/GitHub/Reinforcement-Learning-Project/results/SandingEnvMiddle/ddpg_extension/video/train/project-episode-10000.mp4.\n",
      "Moviepy - Writing video /Users/lgk1910/Library/CloudStorage/OneDrive-AaltoUniversity/Learning2/ReinforcementLearning/Project/GitHub/Reinforcement-Learning-Project/results/SandingEnvMiddle/ddpg_extension/video/train/project-episode-10000.mp4\n",
      "\n"
     ]
    },
    {
     "name": "stderr",
     "output_type": "stream",
     "text": [
      "                                                               "
     ]
    },
    {
     "name": "stdout",
     "output_type": "stream",
     "text": [
      "Moviepy - Done !\n",
      "Moviepy - video ready /Users/lgk1910/Library/CloudStorage/OneDrive-AaltoUniversity/Learning2/ReinforcementLearning/Project/GitHub/Reinforcement-Learning-Project/results/SandingEnvMiddle/ddpg_extension/video/train/project-episode-10000.mp4\n",
      "Episode 10000 Step 200020 finished. Average episode return: 0.76\n",
      "Saved model to /Users/lgk1910/Library/CloudStorage/OneDrive-AaltoUniversity/Learning2/ReinforcementLearning/Project/GitHub/Reinforcement-Learning-Project/results/SandingEnvMiddle/ddpg_extension/model/model_parameters_2.pt ...\n",
      "logger and seed 2\n",
      "/Users/lgk1910/Library/CloudStorage/OneDrive-AaltoUniversity/Learning2/ReinforcementLearning/Project/GitHub/Reinforcement-Learning-Project/results/SandingEnvMiddle/ddpg_extension/logging/logs_2.csv\n",
      "------ Training Finished ------\n",
      "Total traning time is 6.432499365966456mins\n"
     ]
    },
    {
     "name": "stderr",
     "output_type": "stream",
     "text": [
      "\r"
     ]
    }
   ],
   "source": [
    "# Implement your improved algorithm either in algo/ddpg_extension.py or algo/ppo_extension.py\n",
    "from algos.ddpg_extension import DDPGExtension\n",
    "from algos.ppo_extension import PPOExtension\n",
    "\n",
    "implemented_algo = 'ddpg_extension'# choose 'ppo_extension' or 'ddpg_extension'\n",
    "environment = 'middle'\n",
    "\n",
    "training_seeds = []\n",
    "for i in range(3):\n",
    "    config=setup(algo=implemented_algo, env=environment)\n",
    "\n",
    "    config[\"seed\"] = i\n",
    "    training_seeds.append(i)\n",
    "\n",
    "\n",
    "    if config[\"args\"].algo_name == 'ppo_extension':\n",
    "        agent=PPOExtension(config)\n",
    "    elif config[\"args\"].algo_name == 'ddpg_extension':\n",
    "        agent=DDPGExtension(config)\n",
    "    else:\n",
    "        raise Exception('Please use ppo or ddpg!')\n",
    "\n",
    "    # Train the agent using selected algorithm    \n",
    "    agent.train()\n"
   ]
  },
  {
   "cell_type": "markdown",
   "metadata": {},
   "source": [
    "### Testing"
   ]
  },
  {
   "cell_type": "code",
   "execution_count": null,
   "metadata": {},
   "outputs": [
    {
     "name": "stdout",
     "output_type": "stream",
     "text": [
      "model loaded: /Users/lgk1910/Library/CloudStorage/OneDrive-AaltoUniversity/Learning2/ReinforcementLearning/Project/GitHub/Reinforcement-Learning-Project/results/SandingEnvMiddle/ddpg_extension/model/model_parameters_0.pt\n",
      "Testing...\n",
      "Saved GIF to /Users/lgk1910/Library/CloudStorage/OneDrive-AaltoUniversity/Learning2/ReinforcementLearning/Project/GitHub/Reinforcement-Learning-Project/results/SandingEnvMiddle/ddpg_extension/video/test/_seed_0_ep_0.gif\n",
      "Average test reward over 10 episodes: 0.7,+- 0.45825756949558394;         Average episode length: 20.0\n",
      "model loaded: /Users/lgk1910/Library/CloudStorage/OneDrive-AaltoUniversity/Learning2/ReinforcementLearning/Project/GitHub/Reinforcement-Learning-Project/results/SandingEnvMiddle/ddpg_extension/model/model_parameters_1.pt\n",
      "Testing...\n",
      "Saved GIF to /Users/lgk1910/Library/CloudStorage/OneDrive-AaltoUniversity/Learning2/ReinforcementLearning/Project/GitHub/Reinforcement-Learning-Project/results/SandingEnvMiddle/ddpg_extension/video/test/_seed_1_ep_0.gif\n",
      "Average test reward over 10 episodes: 0.9,+- 0.5385164807134504;         Average episode length: 20.0\n",
      "model loaded: /Users/lgk1910/Library/CloudStorage/OneDrive-AaltoUniversity/Learning2/ReinforcementLearning/Project/GitHub/Reinforcement-Learning-Project/results/SandingEnvMiddle/ddpg_extension/model/model_parameters_2.pt\n",
      "Testing...\n",
      "Saved GIF to /Users/lgk1910/Library/CloudStorage/OneDrive-AaltoUniversity/Learning2/ReinforcementLearning/Project/GitHub/Reinforcement-Learning-Project/results/SandingEnvMiddle/ddpg_extension/video/test/_seed_2_ep_0.gif\n",
      "Average test reward over 10 episodes: 1.2,+- 0.6000000000000001;         Average episode length: 20.0\n"
     ]
    }
   ],
   "source": [
    "from algos.ddpg_extension import DDPGExtension\n",
    "from algos.ppo_extension import PPOExtension\n",
    "\n",
    "implemented_algo = 'ddpg_extension'# choose 'ppo_extension' or 'ddpg_extension'\n",
    "environment = 'middle'\n",
    "training_seeds = []\n",
    "for i in range(3):\n",
    "    config=setup(algo=implemented_algo, env=environment, render=False)\n",
    "\n",
    "    config[\"seed\"] = i\n",
    "    training_seeds.append(i)\n",
    "\n",
    "\n",
    "    if config[\"args\"].algo_name == 'ppo_extension':\n",
    "        agent=PPOExtension(config)\n",
    "    elif config[\"args\"].algo_name == 'ddpg_extension':\n",
    "        agent=DDPGExtension(config)\n",
    "    else:\n",
    "        raise Exception('Please use ppo or ddpg!')\n",
    "\n",
    "    # Test the agent in the selected environment\n",
    "    test(agent, environment, implemented_algo)"
   ]
  }
 ],
 "metadata": {
  "kernelspec": {
   "display_name": "rl",
   "language": "python",
   "name": "python3"
  },
  "language_info": {
   "codemirror_mode": {
    "name": "ipython",
    "version": 3
   },
   "file_extension": ".py",
   "mimetype": "text/x-python",
   "name": "python",
   "nbconvert_exporter": "python",
   "pygments_lexer": "ipython3",
   "version": "3.10.8"
  }
 },
 "nbformat": 4,
 "nbformat_minor": 2
}
